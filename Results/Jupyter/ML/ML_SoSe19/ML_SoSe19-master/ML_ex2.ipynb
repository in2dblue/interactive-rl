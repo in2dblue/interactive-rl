{
 "cells": [
  {
   "cell_type": "markdown",
   "metadata": {
    "colab_type": "text",
    "id": "view-in-github"
   },
   "source": [
    "<a href=\"https://colab.research.google.com/github/nilesh0109/ML_SoSe19/blob/master/ML_ex2.ipynb\" target=\"_parent\"><img src=\"https://colab.research.google.com/assets/colab-badge.svg\" alt=\"Open In Colab\"/></a>"
   ]
  },
  {
   "cell_type": "markdown",
   "metadata": {
    "colab_type": "text",
    "id": "rJP-iiPKp-9y"
   },
   "source": [
    "# **Machine Learning Assignment Number 2** <br> \n",
    "# **Nilesh Vijayrania**"
   ]
  },
  {
   "cell_type": "code",
   "execution_count": 1,
   "metadata": {
    "colab": {},
    "colab_type": "code",
    "id": "5Phvp3Z6qC_m"
   },
   "outputs": [],
   "source": [
    "import numpy as np\n",
    "import matplotlib.pyplot as plt"
   ]
  },
  {
   "cell_type": "markdown",
   "metadata": {
    "colab_type": "text",
    "id": "zG1xi0sqonw7"
   },
   "source": [
    "# Plot the data"
   ]
  },
  {
   "cell_type": "code",
   "execution_count": 2,
   "metadata": {
    "colab": {},
    "colab_type": "code",
    "id": "94Xf04c7gtOo"
   },
   "outputs": [],
   "source": [
    "data = np.loadtxt('data.txt')\n",
    "positive_data= data[0:50,:2]\n",
    "negative_data= data[-50:,:2]\n"
   ]
  },
  {
   "cell_type": "code",
   "execution_count": 3,
   "metadata": {
    "colab": {},
    "colab_type": "code",
    "id": "LkAh6z80lQ1y"
   },
   "outputs": [],
   "source": [
    "def plot_data():\n",
    "  plt.plot(positive_data[:,0], positive_data[:,1], 'bo', markerfacecolor='none', label='+ive')\n",
    "  plt.plot(negative_data[:,0], negative_data[:,1], 'ro', markerfacecolor='none', label='--ive')\n",
    "  "
   ]
  },
  {
   "cell_type": "code",
   "execution_count": 4,
   "metadata": {
    "colab": {
     "base_uri": "https://localhost:8080/",
     "height": 269
    },
    "colab_type": "code",
    "id": "EESNmxQtnAzr",
    "outputId": "a5dee291-817b-4d20-e9fa-35c92397b8c0"
   },
   "outputs": [
    {
     "data": {
      "image/png": "[encoded data removed]",
      "text/plain": [
       "<Figure size 432x288 with 1 Axes>"
      ]
     },
     "metadata": {
      "needs_background": "light"
     },
     "output_type": "display_data"
    }
   ],
   "source": [
    "#plot initial data\n",
    "plot_data()\n",
    "plt.legend()\n",
    "plt.show()"
   ]
  },
  {
   "cell_type": "markdown",
   "metadata": {
    "colab_type": "text",
    "id": "i2cev4caosbO"
   },
   "source": [
    "# Initialize parameters"
   ]
  },
  {
   "cell_type": "code",
   "execution_count": 6,
   "metadata": {
    "colab": {
     "base_uri": "https://localhost:8080/",
     "height": 34
    },
    "colab_type": "code",
    "id": "04hupCLbovXA",
    "outputId": "f7866717-b6b8-4880-90b7-e31e694949b3"
   },
   "outputs": [
    {
     "name": "stdout",
     "output_type": "stream",
     "text": [
      "initial theta is  [ 0.0055235  -0.00286756 -0.00439425]\n"
     ]
    }
   ],
   "source": [
    "initial_theta = np.random.uniform(-0.01,0.01,3)\n",
    "print('initial theta is ', initial_theta)\n",
    "learning_rate = 0.01\n",
    "x1 = data[:,0]\n",
    "x2 = data[:,1]\n",
    "y =  data[:,2]"
   ]
  },
  {
   "cell_type": "code",
   "execution_count": 7,
   "metadata": {
    "colab": {},
    "colab_type": "code",
    "id": "ad1GnXZ0j-M-"
   },
   "outputs": [],
   "source": [
    "#Prediction function\n",
    "\n",
    "def predicted_y(th, x_corr):\n",
    "  return (-1 / th[2]) * (th[0] + th[1] * x_corr)"
   ]
  },
  {
   "cell_type": "code",
   "execution_count": 8,
   "metadata": {
    "colab": {},
    "colab_type": "code",
    "id": "2fBhzt1-nIoh"
   },
   "outputs": [],
   "source": [
    "#updaing theta using gradient descend\n",
    "def gradient_desc(th, itr_count, lr):\n",
    "  for itr in np.arange(itr_count):\n",
    "    hx = th[0] + x1 * th[1] + th[2] * x2\n",
    "    gx = 1 / (1 + np.exp(-hx))\n",
    "    y_diff = np.array(y - gx).reshape(1, len(y))\n",
    "    temp = np.array([[1] * len(y), x1, x2]).T\n",
    "    temp1 = np.dot(y_diff, temp).reshape(3)  \n",
    "    th =  th + lr * temp1\n",
    "  return th"
   ]
  },
  {
   "cell_type": "code",
   "execution_count": 9,
   "metadata": {
    "colab": {
     "base_uri": "https://localhost:8080/",
     "height": 34
    },
    "colab_type": "code",
    "id": "NFETOAQ-o-PY",
    "outputId": "cbb26b71-0c50-49eb-b55a-5cb114c2bd8a"
   },
   "outputs": [
    {
     "name": "stdout",
     "output_type": "stream",
     "text": [
      "theta is  [12.98173195 -1.9428381   5.1625251 ]\n"
     ]
    }
   ],
   "source": [
    "theta = gradient_desc(initial_theta, 5000, learning_rate)\n",
    "print('theta is ', theta)"
   ]
  },
  {
   "cell_type": "code",
   "execution_count": 11,
   "metadata": {
    "colab": {
     "base_uri": "https://localhost:8080/",
     "height": 378
    },
    "colab_type": "code",
    "id": "ntmT_6mmmdJA",
    "outputId": "d5ac145c-816b-41b1-eabf-a3c5bd806e74"
   },
   "outputs": [
    {
     "data": {
      "image/png": "[encoded data removed]",
      "text/plain": [
       "<Figure size 864x432 with 1 Axes>"
      ]
     },
     "metadata": {
      "needs_background": "light"
     },
     "output_type": "display_data"
    }
   ],
   "source": [
    "y_pred = predicted_y(theta, x1)\n",
    "y_pred_initial=predicted_y(initial_theta, x1)\n",
    "plt.figure(figsize=(12, 6))\n",
    "plot_data()\n",
    "plt.plot(data[:,0], y_pred_initial, 'grey', label='Initial model')\n",
    "plt.plot(data[:,0], y_pred, 'g', label='Final model')\n",
    "plt.legend()\n",
    "plt.show()"
   ]
  },
  {
   "cell_type": "markdown",
   "metadata": {
    "colab_type": "text",
    "id": "jd-y7OucoCtc"
   },
   "source": [
    "# REPORT"
   ]
  },
  {
   "cell_type": "markdown",
   "metadata": {
    "colab_type": "text",
    "id": "xaUy_0_5oIvC"
   },
   "source": [
    "we have trained a linear classifer model which is segregating the positive and negative datapoints linearly.\n",
    "\n",
    "For the trained model , the final parameters are <br>\n",
    "**theta[0] = 12.98173616 <br>\n",
    "theta[1] = -1.94283884 <br>\n",
    "theta[2] = 5.1625267 <br> **\n",
    "and our classifer function is predicting y, for the given x as <br>\n",
    "**y = -1 / theta[2] / (theta[0] + theta[1] * x) ** \n",
    "\n",
    "The  green line shown in the graph above is the prediction from our final model and the grey line shows the initial prediction by the model.\n",
    "We trained the model for 5000 iteration to improve the value of theta and updated the theta using graident descend."
   ]
  }
 ],
 "metadata": {
  "colab": {
   "collapsed_sections": [],
   "include_colab_link": true,
   "name": "ML_ex2.ipynb",
   "provenance": [],
   "toc_visible": true,
   "version": "0.3.2"
  },
  "kernelspec": {
   "display_name": "Python 3",
   "language": "python",
   "name": "python3"
  },
  "language_info": {
   "codemirror_mode": {
    "name": "ipython",
    "version": 3
   },
   "file_extension": ".py",
   "mimetype": "text/x-python",
   "name": "python",
   "nbconvert_exporter": "python",
   "pygments_lexer": "ipython3",
   "version": "3.7.5rc1"
  }
 },
 "nbformat": 4,
 "nbformat_minor": 1
}
