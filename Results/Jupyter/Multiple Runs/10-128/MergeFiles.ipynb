{
 "cells": [
  {
   "cell_type": "code",
   "execution_count": 1,
   "metadata": {},
   "outputs": [],
   "source": [
    "import pandas     as pd\n",
    "import numpy      as np\n",
    "#import matplotlib.pyplot as plt\n",
    "from matplotlib import pyplot, pylab"
   ]
  },
  {
   "cell_type": "code",
   "execution_count": 2,
   "metadata": {},
   "outputs": [
    {
     "data": {
      "text/html": [
       "<div>\n",
       "<style scoped>\n",
       "    .dataframe tbody tr th:only-of-type {\n",
       "        vertical-align: middle;\n",
       "    }\n",
       "\n",
       "    .dataframe tbody tr th {\n",
       "        vertical-align: top;\n",
       "    }\n",
       "\n",
       "    .dataframe thead th {\n",
       "        text-align: right;\n",
       "    }\n",
       "</style>\n",
       "<table border=\"1\" class=\"dataframe\">\n",
       "  <thead>\n",
       "    <tr style=\"text-align: right;\">\n",
       "      <th></th>\n",
       "      <th>epoch</th>\n",
       "      <th>stats_g/mean</th>\n",
       "      <th>stats_g/std</th>\n",
       "      <th>stats_o/mean</th>\n",
       "      <th>stats_o/std</th>\n",
       "      <th>test/episode</th>\n",
       "      <th>test/mean_Q</th>\n",
       "      <th>test/success_rate</th>\n",
       "      <th>train/episode</th>\n",
       "      <th>train/success_rate</th>\n",
       "    </tr>\n",
       "  </thead>\n",
       "  <tbody>\n",
       "    <tr>\n",
       "      <th>0</th>\n",
       "      <td>0.0</td>\n",
       "      <td>0.853398</td>\n",
       "      <td>0.111120</td>\n",
       "      <td>0.206028</td>\n",
       "      <td>0.076465</td>\n",
       "      <td>10.0</td>\n",
       "      <td>-1.692191</td>\n",
       "      <td>0.000</td>\n",
       "      <td>20.0</td>\n",
       "      <td>0.0500</td>\n",
       "    </tr>\n",
       "    <tr>\n",
       "      <th>1</th>\n",
       "      <td>1.0</td>\n",
       "      <td>0.849221</td>\n",
       "      <td>0.108660</td>\n",
       "      <td>0.206735</td>\n",
       "      <td>0.076189</td>\n",
       "      <td>20.0</td>\n",
       "      <td>-2.106995</td>\n",
       "      <td>0.025</td>\n",
       "      <td>40.0</td>\n",
       "      <td>0.0375</td>\n",
       "    </tr>\n",
       "    <tr>\n",
       "      <th>2</th>\n",
       "      <td>2.0</td>\n",
       "      <td>0.847870</td>\n",
       "      <td>0.105482</td>\n",
       "      <td>0.205626</td>\n",
       "      <td>0.073428</td>\n",
       "      <td>30.0</td>\n",
       "      <td>-2.975447</td>\n",
       "      <td>0.000</td>\n",
       "      <td>60.0</td>\n",
       "      <td>0.0375</td>\n",
       "    </tr>\n",
       "    <tr>\n",
       "      <th>3</th>\n",
       "      <td>3.0</td>\n",
       "      <td>0.846958</td>\n",
       "      <td>0.104144</td>\n",
       "      <td>0.205126</td>\n",
       "      <td>0.068752</td>\n",
       "      <td>40.0</td>\n",
       "      <td>-3.903648</td>\n",
       "      <td>0.025</td>\n",
       "      <td>80.0</td>\n",
       "      <td>0.0375</td>\n",
       "    </tr>\n",
       "    <tr>\n",
       "      <th>4</th>\n",
       "      <td>4.0</td>\n",
       "      <td>0.847544</td>\n",
       "      <td>0.102468</td>\n",
       "      <td>0.205028</td>\n",
       "      <td>0.066826</td>\n",
       "      <td>50.0</td>\n",
       "      <td>-4.603924</td>\n",
       "      <td>0.025</td>\n",
       "      <td>100.0</td>\n",
       "      <td>0.0250</td>\n",
       "    </tr>\n",
       "  </tbody>\n",
       "</table>\n",
       "</div>"
      ],
      "text/plain": [
       "   epoch  stats_g/mean  stats_g/std  stats_o/mean  stats_o/std  test/episode  \\\n",
       "0    0.0      0.853398     0.111120      0.206028     0.076465          10.0   \n",
       "1    1.0      0.849221     0.108660      0.206735     0.076189          20.0   \n",
       "2    2.0      0.847870     0.105482      0.205626     0.073428          30.0   \n",
       "3    3.0      0.846958     0.104144      0.205126     0.068752          40.0   \n",
       "4    4.0      0.847544     0.102468      0.205028     0.066826          50.0   \n",
       "\n",
       "   test/mean_Q  test/success_rate  train/episode  train/success_rate  \n",
       "0    -1.692191              0.000           20.0              0.0500  \n",
       "1    -2.106995              0.025           40.0              0.0375  \n",
       "2    -2.975447              0.000           60.0              0.0375  \n",
       "3    -3.903648              0.025           80.0              0.0375  \n",
       "4    -4.603924              0.025          100.0              0.0250  "
      ]
     },
     "execution_count": 2,
     "metadata": {},
     "output_type": "execute_result"
    }
   ],
   "source": [
    "data1 = pd.read_csv('progress10-128v1.csv')\n",
    "data2 = pd.read_csv('progress10-128v2.csv')\n",
    "data3 = pd.read_csv('progress10-128v3.csv')\n",
    "data4 = pd.read_csv('progress10-128v4.csv')\n",
    "\n",
    "data5 = (data1 + data2 + data3 + data4)/4\n",
    "\n",
    "data5.to_csv('progress10-128.csv')\n",
    "data5.head()"
   ]
  },
  {
   "cell_type": "code",
   "execution_count": 3,
   "metadata": {},
   "outputs": [
    {
     "data": {
      "text/plain": [
       "epoch                   99.500000\n",
       "stats_g/mean             0.843787\n",
       "stats_g/std              0.112475\n",
       "stats_o/mean             0.203375\n",
       "stats_o/std              0.099920\n",
       "test/episode          1005.000000\n",
       "test/mean_Q            -14.939220\n",
       "test/success_rate        0.151000\n",
       "train/episode         2010.000000\n",
       "train/success_rate       0.116000\n",
       "dtype: float64"
      ]
     },
     "execution_count": 3,
     "metadata": {},
     "output_type": "execute_result"
    }
   ],
   "source": [
    "data1.mean()"
   ]
  },
  {
   "cell_type": "code",
   "execution_count": 4,
   "metadata": {},
   "outputs": [
    {
     "data": {
      "text/plain": [
       "epoch                   99.500000\n",
       "stats_g/mean             0.844426\n",
       "stats_g/std              0.118309\n",
       "stats_o/mean             0.205855\n",
       "stats_o/std              0.112395\n",
       "test/episode          1005.000000\n",
       "test/mean_Q            -12.677888\n",
       "test/success_rate        0.204000\n",
       "train/episode         2010.000000\n",
       "train/success_rate       0.150000\n",
       "dtype: float64"
      ]
     },
     "execution_count": 4,
     "metadata": {},
     "output_type": "execute_result"
    }
   ],
   "source": [
    "data2.mean()"
   ]
  },
  {
   "cell_type": "code",
   "execution_count": 5,
   "metadata": {},
   "outputs": [
    {
     "data": {
      "text/plain": [
       "epoch                   99.500000\n",
       "stats_g/mean             0.843866\n",
       "stats_g/std              0.116701\n",
       "stats_o/mean             0.203913\n",
       "stats_o/std              0.103073\n",
       "test/episode          1005.000000\n",
       "test/mean_Q            -14.415028\n",
       "test/success_rate        0.159500\n",
       "train/episode         2010.000000\n",
       "train/success_rate       0.119500\n",
       "dtype: float64"
      ]
     },
     "execution_count": 5,
     "metadata": {},
     "output_type": "execute_result"
    }
   ],
   "source": [
    "data3.mean()"
   ]
  },
  {
   "cell_type": "code",
   "execution_count": 6,
   "metadata": {},
   "outputs": [
    {
     "data": {
      "text/plain": [
       "epoch                   99.500000\n",
       "stats_g/mean             0.845510\n",
       "stats_g/std              0.111875\n",
       "stats_o/mean             0.204443\n",
       "stats_o/std              0.100832\n",
       "test/episode          1005.000000\n",
       "test/mean_Q            -14.944556\n",
       "test/success_rate        0.159500\n",
       "train/episode         2010.000000\n",
       "train/success_rate       0.124000\n",
       "dtype: float64"
      ]
     },
     "execution_count": 6,
     "metadata": {},
     "output_type": "execute_result"
    }
   ],
   "source": [
    "data4.mean()"
   ]
  },
  {
   "cell_type": "code",
   "execution_count": 7,
   "metadata": {},
   "outputs": [
    {
     "data": {
      "text/plain": [
       "epoch                   99.500000\n",
       "stats_g/mean             0.844397\n",
       "stats_g/std              0.114840\n",
       "stats_o/mean             0.204396\n",
       "stats_o/std              0.104055\n",
       "test/episode          1005.000000\n",
       "test/mean_Q            -14.244173\n",
       "test/success_rate        0.168500\n",
       "train/episode         2010.000000\n",
       "train/success_rate       0.127375\n",
       "dtype: float64"
      ]
     },
     "execution_count": 7,
     "metadata": {},
     "output_type": "execute_result"
    }
   ],
   "source": [
    "data5.mean()"
   ]
  },
  {
   "cell_type": "code",
   "execution_count": null,
   "metadata": {},
   "outputs": [],
   "source": []
  }
 ],
 "metadata": {
  "kernelspec": {
   "display_name": "Python 3",
   "language": "python",
   "name": "python3"
  },
  "language_info": {
   "codemirror_mode": {
    "name": "ipython",
    "version": 3
   },
   "file_extension": ".py",
   "mimetype": "text/x-python",
   "name": "python",
   "nbconvert_exporter": "python",
   "pygments_lexer": "ipython3",
   "version": "3.8.2"
  }
 },
 "nbformat": 4,
 "nbformat_minor": 2
}
