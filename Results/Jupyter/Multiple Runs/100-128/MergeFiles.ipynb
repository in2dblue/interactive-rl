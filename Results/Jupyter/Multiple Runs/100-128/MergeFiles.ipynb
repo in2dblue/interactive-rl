{
 "cells": [
  {
   "cell_type": "code",
   "execution_count": 1,
   "metadata": {},
   "outputs": [],
   "source": [
    "import pandas     as pd\n",
    "import numpy      as np\n",
    "#import matplotlib.pyplot as plt\n",
    "from matplotlib import pyplot, pylab"
   ]
  },
  {
   "cell_type": "code",
   "execution_count": 2,
   "metadata": {},
   "outputs": [
    {
     "data": {
      "text/html": [
       "<div>\n",
       "<style scoped>\n",
       "    .dataframe tbody tr th:only-of-type {\n",
       "        vertical-align: middle;\n",
       "    }\n",
       "\n",
       "    .dataframe tbody tr th {\n",
       "        vertical-align: top;\n",
       "    }\n",
       "\n",
       "    .dataframe thead th {\n",
       "        text-align: right;\n",
       "    }\n",
       "</style>\n",
       "<table border=\"1\" class=\"dataframe\">\n",
       "  <thead>\n",
       "    <tr style=\"text-align: right;\">\n",
       "      <th></th>\n",
       "      <th>epoch</th>\n",
       "      <th>stats_g/mean</th>\n",
       "      <th>stats_g/std</th>\n",
       "      <th>stats_o/mean</th>\n",
       "      <th>stats_o/std</th>\n",
       "      <th>test/episode</th>\n",
       "      <th>test/mean_Q</th>\n",
       "      <th>test/success_rate</th>\n",
       "      <th>train/episode</th>\n",
       "      <th>train/success_rate</th>\n",
       "    </tr>\n",
       "  </thead>\n",
       "  <tbody>\n",
       "    <tr>\n",
       "      <th>0</th>\n",
       "      <td>0.0</td>\n",
       "      <td>0.868082</td>\n",
       "      <td>0.099383</td>\n",
       "      <td>0.207392</td>\n",
       "      <td>0.032616</td>\n",
       "      <td>10.0</td>\n",
       "      <td>-1.606768</td>\n",
       "      <td>0.025</td>\n",
       "      <td>20.0</td>\n",
       "      <td>0.0500</td>\n",
       "    </tr>\n",
       "    <tr>\n",
       "      <th>1</th>\n",
       "      <td>1.0</td>\n",
       "      <td>0.868034</td>\n",
       "      <td>0.099400</td>\n",
       "      <td>0.207382</td>\n",
       "      <td>0.032759</td>\n",
       "      <td>20.0</td>\n",
       "      <td>-2.415649</td>\n",
       "      <td>0.075</td>\n",
       "      <td>40.0</td>\n",
       "      <td>0.0750</td>\n",
       "    </tr>\n",
       "    <tr>\n",
       "      <th>2</th>\n",
       "      <td>2.0</td>\n",
       "      <td>0.867985</td>\n",
       "      <td>0.099406</td>\n",
       "      <td>0.207367</td>\n",
       "      <td>0.033597</td>\n",
       "      <td>30.0</td>\n",
       "      <td>-3.218902</td>\n",
       "      <td>0.125</td>\n",
       "      <td>60.0</td>\n",
       "      <td>0.0250</td>\n",
       "    </tr>\n",
       "    <tr>\n",
       "      <th>3</th>\n",
       "      <td>3.0</td>\n",
       "      <td>0.867953</td>\n",
       "      <td>0.099428</td>\n",
       "      <td>0.207365</td>\n",
       "      <td>0.034315</td>\n",
       "      <td>40.0</td>\n",
       "      <td>-3.935441</td>\n",
       "      <td>0.175</td>\n",
       "      <td>80.0</td>\n",
       "      <td>0.0625</td>\n",
       "    </tr>\n",
       "    <tr>\n",
       "      <th>4</th>\n",
       "      <td>4.0</td>\n",
       "      <td>0.867916</td>\n",
       "      <td>0.099434</td>\n",
       "      <td>0.207351</td>\n",
       "      <td>0.035020</td>\n",
       "      <td>50.0</td>\n",
       "      <td>-3.993448</td>\n",
       "      <td>0.375</td>\n",
       "      <td>100.0</td>\n",
       "      <td>0.0875</td>\n",
       "    </tr>\n",
       "  </tbody>\n",
       "</table>\n",
       "</div>"
      ],
      "text/plain": [
       "   epoch  stats_g/mean  stats_g/std  stats_o/mean  stats_o/std  test/episode  \\\n",
       "0    0.0      0.868082     0.099383      0.207392     0.032616          10.0   \n",
       "1    1.0      0.868034     0.099400      0.207382     0.032759          20.0   \n",
       "2    2.0      0.867985     0.099406      0.207367     0.033597          30.0   \n",
       "3    3.0      0.867953     0.099428      0.207365     0.034315          40.0   \n",
       "4    4.0      0.867916     0.099434      0.207351     0.035020          50.0   \n",
       "\n",
       "   test/mean_Q  test/success_rate  train/episode  train/success_rate  \n",
       "0    -1.606768              0.025           20.0              0.0500  \n",
       "1    -2.415649              0.075           40.0              0.0750  \n",
       "2    -3.218902              0.125           60.0              0.0250  \n",
       "3    -3.935441              0.175           80.0              0.0625  \n",
       "4    -3.993448              0.375          100.0              0.0875  "
      ]
     },
     "execution_count": 2,
     "metadata": {},
     "output_type": "execute_result"
    }
   ],
   "source": [
    "data1 = pd.read_csv('progress100-128v1.csv')\n",
    "data2 = pd.read_csv('progress100-128v2.csv')\n",
    "data3 = pd.read_csv('progress100-128v3.csv')\n",
    "data4 = pd.read_csv('progress100-128v4.csv')\n",
    "\n",
    "data5 = (data1 + data2 + data3 + data4)/4\n",
    "\n",
    "data5.to_csv('progress100-128.csv')\n",
    "data5.head()"
   ]
  },
  {
   "cell_type": "code",
   "execution_count": 3,
   "metadata": {},
   "outputs": [
    {
     "data": {
      "text/plain": [
       "epoch                   99.500000\n",
       "stats_g/mean             0.864861\n",
       "stats_g/std              0.106185\n",
       "stats_o/mean             0.207468\n",
       "stats_o/std              0.067156\n",
       "test/episode          1005.000000\n",
       "test/mean_Q             -3.852670\n",
       "test/success_rate        0.766000\n",
       "train/episode         2010.000000\n",
       "train/success_rate       0.430250\n",
       "dtype: float64"
      ]
     },
     "execution_count": 3,
     "metadata": {},
     "output_type": "execute_result"
    }
   ],
   "source": [
    "data1.mean()"
   ]
  },
  {
   "cell_type": "code",
   "execution_count": 4,
   "metadata": {},
   "outputs": [
    {
     "data": {
      "text/plain": [
       "epoch                   99.500000\n",
       "stats_g/mean             0.864660\n",
       "stats_g/std              0.106842\n",
       "stats_o/mean             0.207191\n",
       "stats_o/std              0.069079\n",
       "test/episode          1005.000000\n",
       "test/mean_Q             -4.857505\n",
       "test/success_rate        0.656500\n",
       "train/episode         2010.000000\n",
       "train/success_rate       0.364000\n",
       "dtype: float64"
      ]
     },
     "execution_count": 4,
     "metadata": {},
     "output_type": "execute_result"
    }
   ],
   "source": [
    "data2.mean()"
   ]
  },
  {
   "cell_type": "code",
   "execution_count": 5,
   "metadata": {},
   "outputs": [
    {
     "data": {
      "text/plain": [
       "epoch                   99.500000\n",
       "stats_g/mean             0.865114\n",
       "stats_g/std              0.106836\n",
       "stats_o/mean             0.206768\n",
       "stats_o/std              0.068556\n",
       "test/episode          1005.000000\n",
       "test/mean_Q             -4.110703\n",
       "test/success_rate        0.747500\n",
       "train/episode         2010.000000\n",
       "train/success_rate       0.441250\n",
       "dtype: float64"
      ]
     },
     "execution_count": 5,
     "metadata": {},
     "output_type": "execute_result"
    }
   ],
   "source": [
    "data3.mean()"
   ]
  },
  {
   "cell_type": "code",
   "execution_count": 6,
   "metadata": {},
   "outputs": [
    {
     "data": {
      "text/plain": [
       "epoch                   99.500000\n",
       "stats_g/mean             0.864926\n",
       "stats_g/std              0.107248\n",
       "stats_o/mean             0.206398\n",
       "stats_o/std              0.067900\n",
       "test/episode          1005.000000\n",
       "test/mean_Q             -4.595765\n",
       "test/success_rate        0.716000\n",
       "train/episode         2010.000000\n",
       "train/success_rate       0.396750\n",
       "dtype: float64"
      ]
     },
     "execution_count": 6,
     "metadata": {},
     "output_type": "execute_result"
    }
   ],
   "source": [
    "data4.mean()"
   ]
  },
  {
   "cell_type": "code",
   "execution_count": 7,
   "metadata": {},
   "outputs": [
    {
     "data": {
      "text/plain": [
       "epoch                   99.500000\n",
       "stats_g/mean             0.864890\n",
       "stats_g/std              0.106778\n",
       "stats_o/mean             0.206956\n",
       "stats_o/std              0.068173\n",
       "test/episode          1005.000000\n",
       "test/mean_Q             -4.354161\n",
       "test/success_rate        0.721500\n",
       "train/episode         2010.000000\n",
       "train/success_rate       0.408062\n",
       "dtype: float64"
      ]
     },
     "execution_count": 7,
     "metadata": {},
     "output_type": "execute_result"
    }
   ],
   "source": [
    "data5.mean()"
   ]
  },
  {
   "cell_type": "code",
   "execution_count": null,
   "metadata": {},
   "outputs": [],
   "source": []
  }
 ],
 "metadata": {
  "kernelspec": {
   "display_name": "Python 3",
   "language": "python",
   "name": "python3"
  },
  "language_info": {
   "codemirror_mode": {
    "name": "ipython",
    "version": 3
   },
   "file_extension": ".py",
   "mimetype": "text/x-python",
   "name": "python",
   "nbconvert_exporter": "python",
   "pygments_lexer": "ipython3",
   "version": "3.7.5"
  }
 },
 "nbformat": 4,
 "nbformat_minor": 2
}
