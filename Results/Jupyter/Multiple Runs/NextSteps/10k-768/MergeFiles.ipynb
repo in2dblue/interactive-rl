{
 "cells": [
  {
   "cell_type": "code",
   "execution_count": 1,
   "metadata": {},
   "outputs": [],
   "source": [
    "import pandas     as pd\n",
    "import numpy      as np\n",
    "#import matplotlib.pyplot as plt\n",
    "from matplotlib import pyplot, pylab"
   ]
  },
  {
   "cell_type": "code",
   "execution_count": 2,
   "metadata": {},
   "outputs": [
    {
     "data": {
      "text/html": [
       "<div>\n",
       "<style scoped>\n",
       "    .dataframe tbody tr th:only-of-type {\n",
       "        vertical-align: middle;\n",
       "    }\n",
       "\n",
       "    .dataframe tbody tr th {\n",
       "        vertical-align: top;\n",
       "    }\n",
       "\n",
       "    .dataframe thead th {\n",
       "        text-align: right;\n",
       "    }\n",
       "</style>\n",
       "<table border=\"1\" class=\"dataframe\">\n",
       "  <thead>\n",
       "    <tr style=\"text-align: right;\">\n",
       "      <th></th>\n",
       "      <th>epoch</th>\n",
       "      <th>stats_g/mean</th>\n",
       "      <th>stats_g/std</th>\n",
       "      <th>stats_o/mean</th>\n",
       "      <th>stats_o/std</th>\n",
       "      <th>test/episode</th>\n",
       "      <th>test/mean_Q</th>\n",
       "      <th>test/success_rate</th>\n",
       "      <th>train/episode</th>\n",
       "      <th>train/success_rate</th>\n",
       "    </tr>\n",
       "  </thead>\n",
       "  <tbody>\n",
       "    <tr>\n",
       "      <th>0</th>\n",
       "      <td>0.0</td>\n",
       "      <td>0.868067</td>\n",
       "      <td>0.099387</td>\n",
       "      <td>0.207399</td>\n",
       "      <td>0.032439</td>\n",
       "      <td>10.0</td>\n",
       "      <td>-1.908720</td>\n",
       "      <td>0.050</td>\n",
       "      <td>20.0</td>\n",
       "      <td>0.0625</td>\n",
       "    </tr>\n",
       "    <tr>\n",
       "      <th>1</th>\n",
       "      <td>1.0</td>\n",
       "      <td>0.868026</td>\n",
       "      <td>0.099441</td>\n",
       "      <td>0.207389</td>\n",
       "      <td>0.033344</td>\n",
       "      <td>20.0</td>\n",
       "      <td>-2.526660</td>\n",
       "      <td>0.100</td>\n",
       "      <td>40.0</td>\n",
       "      <td>0.0625</td>\n",
       "    </tr>\n",
       "    <tr>\n",
       "      <th>2</th>\n",
       "      <td>2.0</td>\n",
       "      <td>0.867982</td>\n",
       "      <td>0.099481</td>\n",
       "      <td>0.207383</td>\n",
       "      <td>0.034014</td>\n",
       "      <td>30.0</td>\n",
       "      <td>-2.906877</td>\n",
       "      <td>0.300</td>\n",
       "      <td>60.0</td>\n",
       "      <td>0.0375</td>\n",
       "    </tr>\n",
       "    <tr>\n",
       "      <th>3</th>\n",
       "      <td>3.0</td>\n",
       "      <td>0.867959</td>\n",
       "      <td>0.099540</td>\n",
       "      <td>0.207381</td>\n",
       "      <td>0.034548</td>\n",
       "      <td>40.0</td>\n",
       "      <td>-3.664576</td>\n",
       "      <td>0.325</td>\n",
       "      <td>80.0</td>\n",
       "      <td>0.0750</td>\n",
       "    </tr>\n",
       "    <tr>\n",
       "      <th>4</th>\n",
       "      <td>4.0</td>\n",
       "      <td>0.867930</td>\n",
       "      <td>0.099541</td>\n",
       "      <td>0.207379</td>\n",
       "      <td>0.035038</td>\n",
       "      <td>50.0</td>\n",
       "      <td>-3.804358</td>\n",
       "      <td>0.450</td>\n",
       "      <td>100.0</td>\n",
       "      <td>0.1500</td>\n",
       "    </tr>\n",
       "  </tbody>\n",
       "</table>\n",
       "</div>"
      ],
      "text/plain": [
       "   epoch  stats_g/mean  stats_g/std  stats_o/mean  stats_o/std  test/episode  \\\n",
       "0    0.0      0.868067     0.099387      0.207399     0.032439          10.0   \n",
       "1    1.0      0.868026     0.099441      0.207389     0.033344          20.0   \n",
       "2    2.0      0.867982     0.099481      0.207383     0.034014          30.0   \n",
       "3    3.0      0.867959     0.099540      0.207381     0.034548          40.0   \n",
       "4    4.0      0.867930     0.099541      0.207379     0.035038          50.0   \n",
       "\n",
       "   test/mean_Q  test/success_rate  train/episode  train/success_rate  \n",
       "0    -1.908720              0.050           20.0              0.0625  \n",
       "1    -2.526660              0.100           40.0              0.0625  \n",
       "2    -2.906877              0.300           60.0              0.0375  \n",
       "3    -3.664576              0.325           80.0              0.0750  \n",
       "4    -3.804358              0.450          100.0              0.1500  "
      ]
     },
     "execution_count": 2,
     "metadata": {},
     "output_type": "execute_result"
    }
   ],
   "source": [
    "data1 = pd.read_csv('progress10k-768v1.csv')\n",
    "data2 = pd.read_csv('progress10k-768v2.csv')\n",
    "data3 = pd.read_csv('progress10k-768v3.csv')\n",
    "data4 = pd.read_csv('progress10k-768v4.csv')\n",
    "\n",
    "data5 = (data1 + data2 + data3 + data4)/4\n",
    "\n",
    "data5.to_csv('progress10k-768.csv')\n",
    "data5.head()"
   ]
  },
  {
   "cell_type": "code",
   "execution_count": 3,
   "metadata": {},
   "outputs": [
    {
     "data": {
      "text/plain": [
       "epoch                   99.500000\n",
       "stats_g/mean             0.865125\n",
       "stats_g/std              0.105627\n",
       "stats_o/mean             0.207028\n",
       "stats_o/std              0.065887\n",
       "test/episode          1005.000000\n",
       "test/mean_Q             -4.322077\n",
       "test/success_rate        0.795000\n",
       "train/episode         2010.000000\n",
       "train/success_rate       0.424250\n",
       "dtype: float64"
      ]
     },
     "execution_count": 3,
     "metadata": {},
     "output_type": "execute_result"
    }
   ],
   "source": [
    "data1.mean()"
   ]
  },
  {
   "cell_type": "code",
   "execution_count": 4,
   "metadata": {},
   "outputs": [
    {
     "data": {
      "text/plain": [
       "epoch                   99.500000\n",
       "stats_g/mean             0.865439\n",
       "stats_g/std              0.104890\n",
       "stats_o/mean             0.207405\n",
       "stats_o/std              0.062647\n",
       "test/episode          1005.000000\n",
       "test/mean_Q             -3.680036\n",
       "test/success_rate        0.837500\n",
       "train/episode         2010.000000\n",
       "train/success_rate       0.482250\n",
       "dtype: float64"
      ]
     },
     "execution_count": 4,
     "metadata": {},
     "output_type": "execute_result"
    }
   ],
   "source": [
    "data2.mean()"
   ]
  },
  {
   "cell_type": "code",
   "execution_count": 5,
   "metadata": {},
   "outputs": [
    {
     "data": {
      "text/plain": [
       "epoch                   99.500000\n",
       "stats_g/mean             0.865533\n",
       "stats_g/std              0.103999\n",
       "stats_o/mean             0.206674\n",
       "stats_o/std              0.063917\n",
       "test/episode          1005.000000\n",
       "test/mean_Q             -3.795797\n",
       "test/success_rate        0.832000\n",
       "train/episode         2010.000000\n",
       "train/success_rate       0.471250\n",
       "dtype: float64"
      ]
     },
     "execution_count": 5,
     "metadata": {},
     "output_type": "execute_result"
    }
   ],
   "source": [
    "data3.mean()"
   ]
  },
  {
   "cell_type": "code",
   "execution_count": 6,
   "metadata": {},
   "outputs": [
    {
     "data": {
      "text/plain": [
       "epoch                   99.500000\n",
       "stats_g/mean             0.865053\n",
       "stats_g/std              0.105307\n",
       "stats_o/mean             0.207762\n",
       "stats_o/std              0.063246\n",
       "test/episode          1005.000000\n",
       "test/mean_Q             -3.871905\n",
       "test/success_rate        0.832500\n",
       "train/episode         2010.000000\n",
       "train/success_rate       0.475500\n",
       "dtype: float64"
      ]
     },
     "execution_count": 6,
     "metadata": {},
     "output_type": "execute_result"
    }
   ],
   "source": [
    "data4.mean()"
   ]
  },
  {
   "cell_type": "code",
   "execution_count": 7,
   "metadata": {},
   "outputs": [
    {
     "data": {
      "text/plain": [
       "epoch                   99.500000\n",
       "stats_g/mean             0.865287\n",
       "stats_g/std              0.104956\n",
       "stats_o/mean             0.207217\n",
       "stats_o/std              0.063924\n",
       "test/episode          1005.000000\n",
       "test/mean_Q             -3.917454\n",
       "test/success_rate        0.824250\n",
       "train/episode         2010.000000\n",
       "train/success_rate       0.463313\n",
       "dtype: float64"
      ]
     },
     "execution_count": 7,
     "metadata": {},
     "output_type": "execute_result"
    }
   ],
   "source": [
    "data5.mean()"
   ]
  },
  {
   "cell_type": "code",
   "execution_count": null,
   "metadata": {},
   "outputs": [],
   "source": []
  }
 ],
 "metadata": {
  "kernelspec": {
   "display_name": "Python 3",
   "language": "python",
   "name": "python3"
  },
  "language_info": {
   "codemirror_mode": {
    "name": "ipython",
    "version": 3
   },
   "file_extension": ".py",
   "mimetype": "text/x-python",
   "name": "python",
   "nbconvert_exporter": "python",
   "pygments_lexer": "ipython3",
   "version": "3.7.5"
  }
 },
 "nbformat": 4,
 "nbformat_minor": 2
}
