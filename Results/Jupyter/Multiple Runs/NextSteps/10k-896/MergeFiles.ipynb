{
 "cells": [
  {
   "cell_type": "code",
   "execution_count": 1,
   "metadata": {},
   "outputs": [],
   "source": [
    "import pandas     as pd\n",
    "import numpy      as np\n",
    "#import matplotlib.pyplot as plt\n",
    "from matplotlib import pyplot, pylab"
   ]
  },
  {
   "cell_type": "code",
   "execution_count": 2,
   "metadata": {},
   "outputs": [
    {
     "data": {
      "text/html": [
       "<div>\n",
       "<style scoped>\n",
       "    .dataframe tbody tr th:only-of-type {\n",
       "        vertical-align: middle;\n",
       "    }\n",
       "\n",
       "    .dataframe tbody tr th {\n",
       "        vertical-align: top;\n",
       "    }\n",
       "\n",
       "    .dataframe thead th {\n",
       "        text-align: right;\n",
       "    }\n",
       "</style>\n",
       "<table border=\"1\" class=\"dataframe\">\n",
       "  <thead>\n",
       "    <tr style=\"text-align: right;\">\n",
       "      <th></th>\n",
       "      <th>epoch</th>\n",
       "      <th>stats_g/mean</th>\n",
       "      <th>stats_g/std</th>\n",
       "      <th>stats_o/mean</th>\n",
       "      <th>stats_o/std</th>\n",
       "      <th>test/episode</th>\n",
       "      <th>test/mean_Q</th>\n",
       "      <th>test/success_rate</th>\n",
       "      <th>train/episode</th>\n",
       "      <th>train/success_rate</th>\n",
       "    </tr>\n",
       "  </thead>\n",
       "  <tbody>\n",
       "    <tr>\n",
       "      <th>0</th>\n",
       "      <td>0.0</td>\n",
       "      <td>0.868044</td>\n",
       "      <td>0.099398</td>\n",
       "      <td>0.207408</td>\n",
       "      <td>0.032829</td>\n",
       "      <td>10.0</td>\n",
       "      <td>-1.743961</td>\n",
       "      <td>0.125</td>\n",
       "      <td>20.0</td>\n",
       "      <td>0.0500</td>\n",
       "    </tr>\n",
       "    <tr>\n",
       "      <th>1</th>\n",
       "      <td>1.0</td>\n",
       "      <td>0.867996</td>\n",
       "      <td>0.099430</td>\n",
       "      <td>0.207402</td>\n",
       "      <td>0.033953</td>\n",
       "      <td>20.0</td>\n",
       "      <td>-2.396601</td>\n",
       "      <td>0.150</td>\n",
       "      <td>40.0</td>\n",
       "      <td>0.0375</td>\n",
       "    </tr>\n",
       "    <tr>\n",
       "      <th>2</th>\n",
       "      <td>2.0</td>\n",
       "      <td>0.867940</td>\n",
       "      <td>0.099465</td>\n",
       "      <td>0.207385</td>\n",
       "      <td>0.034766</td>\n",
       "      <td>30.0</td>\n",
       "      <td>-2.905656</td>\n",
       "      <td>0.275</td>\n",
       "      <td>60.0</td>\n",
       "      <td>0.0625</td>\n",
       "    </tr>\n",
       "    <tr>\n",
       "      <th>3</th>\n",
       "      <td>3.0</td>\n",
       "      <td>0.867893</td>\n",
       "      <td>0.099521</td>\n",
       "      <td>0.207382</td>\n",
       "      <td>0.035593</td>\n",
       "      <td>40.0</td>\n",
       "      <td>-3.369090</td>\n",
       "      <td>0.325</td>\n",
       "      <td>80.0</td>\n",
       "      <td>0.1125</td>\n",
       "    </tr>\n",
       "    <tr>\n",
       "      <th>4</th>\n",
       "      <td>4.0</td>\n",
       "      <td>0.867834</td>\n",
       "      <td>0.099597</td>\n",
       "      <td>0.207378</td>\n",
       "      <td>0.036302</td>\n",
       "      <td>50.0</td>\n",
       "      <td>-3.957038</td>\n",
       "      <td>0.450</td>\n",
       "      <td>100.0</td>\n",
       "      <td>0.0750</td>\n",
       "    </tr>\n",
       "  </tbody>\n",
       "</table>\n",
       "</div>"
      ],
      "text/plain": [
       "   epoch  stats_g/mean  stats_g/std  stats_o/mean  stats_o/std  test/episode  \\\n",
       "0    0.0      0.868044     0.099398      0.207408     0.032829          10.0   \n",
       "1    1.0      0.867996     0.099430      0.207402     0.033953          20.0   \n",
       "2    2.0      0.867940     0.099465      0.207385     0.034766          30.0   \n",
       "3    3.0      0.867893     0.099521      0.207382     0.035593          40.0   \n",
       "4    4.0      0.867834     0.099597      0.207378     0.036302          50.0   \n",
       "\n",
       "   test/mean_Q  test/success_rate  train/episode  train/success_rate  \n",
       "0    -1.743961              0.125           20.0              0.0500  \n",
       "1    -2.396601              0.150           40.0              0.0375  \n",
       "2    -2.905656              0.275           60.0              0.0625  \n",
       "3    -3.369090              0.325           80.0              0.1125  \n",
       "4    -3.957038              0.450          100.0              0.0750  "
      ]
     },
     "execution_count": 2,
     "metadata": {},
     "output_type": "execute_result"
    }
   ],
   "source": [
    "data1 = pd.read_csv('progress10k-896v1.csv')\n",
    "data2 = pd.read_csv('progress10k-896v2.csv')\n",
    "data3 = pd.read_csv('progress10k-896v3.csv')\n",
    "data4 = pd.read_csv('progress10k-896v4.csv')\n",
    "\n",
    "data5 = (data1 + data2 + data3 + data4)/4\n",
    "\n",
    "data5.to_csv('progress10k-896.csv')\n",
    "data5.head()"
   ]
  },
  {
   "cell_type": "code",
   "execution_count": 3,
   "metadata": {},
   "outputs": [
    {
     "data": {
      "text/plain": [
       "epoch                   99.500000\n",
       "stats_g/mean             0.865321\n",
       "stats_g/std              0.105024\n",
       "stats_o/mean             0.206894\n",
       "stats_o/std              0.063291\n",
       "test/episode          1005.000000\n",
       "test/mean_Q             -4.881855\n",
       "test/success_rate        0.791000\n",
       "train/episode         2010.000000\n",
       "train/success_rate       0.440750\n",
       "dtype: float64"
      ]
     },
     "execution_count": 3,
     "metadata": {},
     "output_type": "execute_result"
    }
   ],
   "source": [
    "data1.mean()"
   ]
  },
  {
   "cell_type": "code",
   "execution_count": 4,
   "metadata": {},
   "outputs": [
    {
     "data": {
      "text/plain": [
       "epoch                   99.500000\n",
       "stats_g/mean             0.864596\n",
       "stats_g/std              0.106531\n",
       "stats_o/mean             0.207173\n",
       "stats_o/std              0.065428\n",
       "test/episode          1005.000000\n",
       "test/mean_Q             -4.967425\n",
       "test/success_rate        0.780000\n",
       "train/episode         2010.000000\n",
       "train/success_rate       0.415250\n",
       "dtype: float64"
      ]
     },
     "execution_count": 4,
     "metadata": {},
     "output_type": "execute_result"
    }
   ],
   "source": [
    "data2.mean()"
   ]
  },
  {
   "cell_type": "code",
   "execution_count": 5,
   "metadata": {},
   "outputs": [
    {
     "data": {
      "text/plain": [
       "epoch                   99.500000\n",
       "stats_g/mean             0.864974\n",
       "stats_g/std              0.106058\n",
       "stats_o/mean             0.207381\n",
       "stats_o/std              0.064821\n",
       "test/episode          1005.000000\n",
       "test/mean_Q             -4.925478\n",
       "test/success_rate        0.774000\n",
       "train/episode         2010.000000\n",
       "train/success_rate       0.389750\n",
       "dtype: float64"
      ]
     },
     "execution_count": 5,
     "metadata": {},
     "output_type": "execute_result"
    }
   ],
   "source": [
    "data3.mean()"
   ]
  },
  {
   "cell_type": "code",
   "execution_count": 6,
   "metadata": {},
   "outputs": [
    {
     "data": {
      "text/plain": [
       "epoch                   99.500000\n",
       "stats_g/mean             0.865380\n",
       "stats_g/std              0.105722\n",
       "stats_o/mean             0.206989\n",
       "stats_o/std              0.063943\n",
       "test/episode          1005.000000\n",
       "test/mean_Q             -4.635274\n",
       "test/success_rate        0.804500\n",
       "train/episode         2010.000000\n",
       "train/success_rate       0.431750\n",
       "dtype: float64"
      ]
     },
     "execution_count": 6,
     "metadata": {},
     "output_type": "execute_result"
    }
   ],
   "source": [
    "data4.mean()"
   ]
  },
  {
   "cell_type": "code",
   "execution_count": 7,
   "metadata": {},
   "outputs": [
    {
     "data": {
      "text/plain": [
       "epoch                   99.500000\n",
       "stats_g/mean             0.865068\n",
       "stats_g/std              0.105834\n",
       "stats_o/mean             0.207109\n",
       "stats_o/std              0.064371\n",
       "test/episode          1005.000000\n",
       "test/mean_Q             -4.852508\n",
       "test/success_rate        0.787375\n",
       "train/episode         2010.000000\n",
       "train/success_rate       0.419375\n",
       "dtype: float64"
      ]
     },
     "execution_count": 7,
     "metadata": {},
     "output_type": "execute_result"
    }
   ],
   "source": [
    "data5.mean()"
   ]
  },
  {
   "cell_type": "code",
   "execution_count": null,
   "metadata": {},
   "outputs": [],
   "source": []
  }
 ],
 "metadata": {
  "kernelspec": {
   "display_name": "Python 3",
   "language": "python",
   "name": "python3"
  },
  "language_info": {
   "codemirror_mode": {
    "name": "ipython",
    "version": 3
   },
   "file_extension": ".py",
   "mimetype": "text/x-python",
   "name": "python",
   "nbconvert_exporter": "python",
   "pygments_lexer": "ipython3",
   "version": "3.7.5"
  }
 },
 "nbformat": 4,
 "nbformat_minor": 2
}
