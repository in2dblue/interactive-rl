{
 "cells": [
  {
   "cell_type": "code",
   "execution_count": 1,
   "metadata": {},
   "outputs": [],
   "source": [
    "import pandas     as pd\n",
    "import numpy      as np\n",
    "#import matplotlib.pyplot as plt\n",
    "from matplotlib import pyplot, pylab"
   ]
  },
  {
   "cell_type": "code",
   "execution_count": 2,
   "metadata": {},
   "outputs": [
    {
     "data": {
      "text/html": [
       "<div>\n",
       "<style scoped>\n",
       "    .dataframe tbody tr th:only-of-type {\n",
       "        vertical-align: middle;\n",
       "    }\n",
       "\n",
       "    .dataframe tbody tr th {\n",
       "        vertical-align: top;\n",
       "    }\n",
       "\n",
       "    .dataframe thead th {\n",
       "        text-align: right;\n",
       "    }\n",
       "</style>\n",
       "<table border=\"1\" class=\"dataframe\">\n",
       "  <thead>\n",
       "    <tr style=\"text-align: right;\">\n",
       "      <th></th>\n",
       "      <th>epoch</th>\n",
       "      <th>stats_g/mean</th>\n",
       "      <th>stats_g/std</th>\n",
       "      <th>stats_o/mean</th>\n",
       "      <th>stats_o/std</th>\n",
       "      <th>test/episode</th>\n",
       "      <th>test/mean_Q</th>\n",
       "      <th>test/success_rate</th>\n",
       "      <th>train/episode</th>\n",
       "      <th>train/success_rate</th>\n",
       "    </tr>\n",
       "  </thead>\n",
       "  <tbody>\n",
       "    <tr>\n",
       "      <th>0</th>\n",
       "      <td>0.0</td>\n",
       "      <td>0.867411</td>\n",
       "      <td>0.099587</td>\n",
       "      <td>0.207198</td>\n",
       "      <td>0.035831</td>\n",
       "      <td>10.0</td>\n",
       "      <td>-1.716515</td>\n",
       "      <td>0.075</td>\n",
       "      <td>20.0</td>\n",
       "      <td>0.0500</td>\n",
       "    </tr>\n",
       "    <tr>\n",
       "      <th>1</th>\n",
       "      <td>1.0</td>\n",
       "      <td>0.867237</td>\n",
       "      <td>0.099758</td>\n",
       "      <td>0.207148</td>\n",
       "      <td>0.037412</td>\n",
       "      <td>20.0</td>\n",
       "      <td>-2.360580</td>\n",
       "      <td>0.225</td>\n",
       "      <td>40.0</td>\n",
       "      <td>0.0625</td>\n",
       "    </tr>\n",
       "    <tr>\n",
       "      <th>2</th>\n",
       "      <td>2.0</td>\n",
       "      <td>0.867042</td>\n",
       "      <td>0.099765</td>\n",
       "      <td>0.207143</td>\n",
       "      <td>0.038782</td>\n",
       "      <td>30.0</td>\n",
       "      <td>-2.944936</td>\n",
       "      <td>0.350</td>\n",
       "      <td>60.0</td>\n",
       "      <td>0.0875</td>\n",
       "    </tr>\n",
       "    <tr>\n",
       "      <th>3</th>\n",
       "      <td>3.0</td>\n",
       "      <td>0.866861</td>\n",
       "      <td>0.099833</td>\n",
       "      <td>0.207110</td>\n",
       "      <td>0.040141</td>\n",
       "      <td>40.0</td>\n",
       "      <td>-3.037280</td>\n",
       "      <td>0.500</td>\n",
       "      <td>80.0</td>\n",
       "      <td>0.0875</td>\n",
       "    </tr>\n",
       "    <tr>\n",
       "      <th>4</th>\n",
       "      <td>4.0</td>\n",
       "      <td>0.866721</td>\n",
       "      <td>0.099939</td>\n",
       "      <td>0.207111</td>\n",
       "      <td>0.040900</td>\n",
       "      <td>50.0</td>\n",
       "      <td>-3.591713</td>\n",
       "      <td>0.500</td>\n",
       "      <td>100.0</td>\n",
       "      <td>0.0500</td>\n",
       "    </tr>\n",
       "  </tbody>\n",
       "</table>\n",
       "</div>"
      ],
      "text/plain": [
       "   epoch  stats_g/mean  stats_g/std  stats_o/mean  stats_o/std  test/episode  \\\n",
       "0    0.0      0.867411     0.099587      0.207198     0.035831          10.0   \n",
       "1    1.0      0.867237     0.099758      0.207148     0.037412          20.0   \n",
       "2    2.0      0.867042     0.099765      0.207143     0.038782          30.0   \n",
       "3    3.0      0.866861     0.099833      0.207110     0.040141          40.0   \n",
       "4    4.0      0.866721     0.099939      0.207111     0.040900          50.0   \n",
       "\n",
       "   test/mean_Q  test/success_rate  train/episode  train/success_rate  \n",
       "0    -1.716515              0.075           20.0              0.0500  \n",
       "1    -2.360580              0.225           40.0              0.0625  \n",
       "2    -2.944936              0.350           60.0              0.0875  \n",
       "3    -3.037280              0.500           80.0              0.0875  \n",
       "4    -3.591713              0.500          100.0              0.0500  "
      ]
     },
     "execution_count": 2,
     "metadata": {},
     "output_type": "execute_result"
    }
   ],
   "source": [
    "data1 = pd.read_csv('progress2_5k-512v1.csv')\n",
    "data2 = pd.read_csv('progress2_5k-512v2.csv')\n",
    "data3 = pd.read_csv('progress2_5k-512v3.csv')\n",
    "data4 = pd.read_csv('progress2_5k-512v4.csv')\n",
    "\n",
    "data5 = (data1 + data2 + data3 + data4)/4\n",
    "\n",
    "data5.to_csv('progress2_5k-512.csv')\n",
    "data5.head()"
   ]
  },
  {
   "cell_type": "code",
   "execution_count": 3,
   "metadata": {},
   "outputs": [
    {
     "data": {
      "text/plain": [
       "epoch                   99.500000\n",
       "stats_g/mean             0.859590\n",
       "stats_g/std              0.117330\n",
       "stats_o/mean             0.207203\n",
       "stats_o/std              0.091034\n",
       "test/episode          1005.000000\n",
       "test/mean_Q             -3.939815\n",
       "test/success_rate        0.800000\n",
       "train/episode         2010.000000\n",
       "train/success_rate       0.447500\n",
       "dtype: float64"
      ]
     },
     "execution_count": 3,
     "metadata": {},
     "output_type": "execute_result"
    }
   ],
   "source": [
    "data1.mean()"
   ]
  },
  {
   "cell_type": "code",
   "execution_count": 4,
   "metadata": {},
   "outputs": [
    {
     "data": {
      "text/plain": [
       "epoch                   99.500000\n",
       "stats_g/mean             0.859671\n",
       "stats_g/std              0.116009\n",
       "stats_o/mean             0.207189\n",
       "stats_o/std              0.092097\n",
       "test/episode          1005.000000\n",
       "test/mean_Q             -3.973384\n",
       "test/success_rate        0.806000\n",
       "train/episode         2010.000000\n",
       "train/success_rate       0.442500\n",
       "dtype: float64"
      ]
     },
     "execution_count": 4,
     "metadata": {},
     "output_type": "execute_result"
    }
   ],
   "source": [
    "data2.mean()"
   ]
  },
  {
   "cell_type": "code",
   "execution_count": 5,
   "metadata": {},
   "outputs": [
    {
     "data": {
      "text/plain": [
       "epoch                   99.500000\n",
       "stats_g/mean             0.860628\n",
       "stats_g/std              0.112570\n",
       "stats_o/mean             0.206215\n",
       "stats_o/std              0.086761\n",
       "test/episode          1005.000000\n",
       "test/mean_Q             -3.472137\n",
       "test/success_rate        0.841000\n",
       "train/episode         2010.000000\n",
       "train/success_rate       0.472000\n",
       "dtype: float64"
      ]
     },
     "execution_count": 5,
     "metadata": {},
     "output_type": "execute_result"
    }
   ],
   "source": [
    "data3.mean()"
   ]
  },
  {
   "cell_type": "code",
   "execution_count": 6,
   "metadata": {},
   "outputs": [
    {
     "data": {
      "text/plain": [
       "epoch                   99.500000\n",
       "stats_g/mean             0.860158\n",
       "stats_g/std              0.114520\n",
       "stats_o/mean             0.206380\n",
       "stats_o/std              0.087259\n",
       "test/episode          1005.000000\n",
       "test/mean_Q             -4.046920\n",
       "test/success_rate        0.801500\n",
       "train/episode         2010.000000\n",
       "train/success_rate       0.432750\n",
       "dtype: float64"
      ]
     },
     "execution_count": 6,
     "metadata": {},
     "output_type": "execute_result"
    }
   ],
   "source": [
    "data4.mean()"
   ]
  },
  {
   "cell_type": "code",
   "execution_count": 7,
   "metadata": {},
   "outputs": [
    {
     "data": {
      "text/plain": [
       "epoch                   99.500000\n",
       "stats_g/mean             0.860012\n",
       "stats_g/std              0.115107\n",
       "stats_o/mean             0.206747\n",
       "stats_o/std              0.089288\n",
       "test/episode          1005.000000\n",
       "test/mean_Q             -3.858064\n",
       "test/success_rate        0.812125\n",
       "train/episode         2010.000000\n",
       "train/success_rate       0.448687\n",
       "dtype: float64"
      ]
     },
     "execution_count": 7,
     "metadata": {},
     "output_type": "execute_result"
    }
   ],
   "source": [
    "data5.mean()"
   ]
  },
  {
   "cell_type": "code",
   "execution_count": null,
   "metadata": {},
   "outputs": [],
   "source": []
  }
 ],
 "metadata": {
  "kernelspec": {
   "display_name": "Python 3",
   "language": "python",
   "name": "python3"
  },
  "language_info": {
   "codemirror_mode": {
    "name": "ipython",
    "version": 3
   },
   "file_extension": ".py",
   "mimetype": "text/x-python",
   "name": "python",
   "nbconvert_exporter": "python",
   "pygments_lexer": "ipython3",
   "version": "3.7.5"
  }
 },
 "nbformat": 4,
 "nbformat_minor": 2
}
