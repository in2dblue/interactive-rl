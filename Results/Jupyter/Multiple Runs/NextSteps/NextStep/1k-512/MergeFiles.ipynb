{
 "cells": [
  {
   "cell_type": "code",
   "execution_count": 1,
   "metadata": {},
   "outputs": [],
   "source": [
    "import pandas     as pd\n",
    "import numpy      as np\n",
    "#import matplotlib.pyplot as plt\n",
    "from matplotlib import pyplot, pylab"
   ]
  },
  {
   "cell_type": "code",
   "execution_count": 2,
   "metadata": {},
   "outputs": [
    {
     "data": {
      "text/html": [
       "<div>\n",
       "<style scoped>\n",
       "    .dataframe tbody tr th:only-of-type {\n",
       "        vertical-align: middle;\n",
       "    }\n",
       "\n",
       "    .dataframe tbody tr th {\n",
       "        vertical-align: top;\n",
       "    }\n",
       "\n",
       "    .dataframe thead th {\n",
       "        text-align: right;\n",
       "    }\n",
       "</style>\n",
       "<table border=\"1\" class=\"dataframe\">\n",
       "  <thead>\n",
       "    <tr style=\"text-align: right;\">\n",
       "      <th></th>\n",
       "      <th>epoch</th>\n",
       "      <th>stats_g/mean</th>\n",
       "      <th>stats_g/std</th>\n",
       "      <th>stats_o/mean</th>\n",
       "      <th>stats_o/std</th>\n",
       "      <th>test/episode</th>\n",
       "      <th>test/mean_Q</th>\n",
       "      <th>test/success_rate</th>\n",
       "      <th>train/episode</th>\n",
       "      <th>train/success_rate</th>\n",
       "    </tr>\n",
       "  </thead>\n",
       "  <tbody>\n",
       "    <tr>\n",
       "      <th>0</th>\n",
       "      <td>0.0</td>\n",
       "      <td>0.869147</td>\n",
       "      <td>0.100325</td>\n",
       "      <td>0.207639</td>\n",
       "      <td>0.036525</td>\n",
       "      <td>10.0</td>\n",
       "      <td>-1.487953</td>\n",
       "      <td>0.225</td>\n",
       "      <td>20.0</td>\n",
       "      <td>0.0500</td>\n",
       "    </tr>\n",
       "    <tr>\n",
       "      <th>1</th>\n",
       "      <td>1.0</td>\n",
       "      <td>0.868726</td>\n",
       "      <td>0.100513</td>\n",
       "      <td>0.207578</td>\n",
       "      <td>0.040503</td>\n",
       "      <td>20.0</td>\n",
       "      <td>-2.015076</td>\n",
       "      <td>0.425</td>\n",
       "      <td>40.0</td>\n",
       "      <td>0.0625</td>\n",
       "    </tr>\n",
       "    <tr>\n",
       "      <th>2</th>\n",
       "      <td>2.0</td>\n",
       "      <td>0.868417</td>\n",
       "      <td>0.100715</td>\n",
       "      <td>0.207524</td>\n",
       "      <td>0.042398</td>\n",
       "      <td>30.0</td>\n",
       "      <td>-3.197483</td>\n",
       "      <td>0.150</td>\n",
       "      <td>60.0</td>\n",
       "      <td>0.0625</td>\n",
       "    </tr>\n",
       "    <tr>\n",
       "      <th>3</th>\n",
       "      <td>3.0</td>\n",
       "      <td>0.867721</td>\n",
       "      <td>0.101214</td>\n",
       "      <td>0.207324</td>\n",
       "      <td>0.044231</td>\n",
       "      <td>40.0</td>\n",
       "      <td>-3.586861</td>\n",
       "      <td>0.300</td>\n",
       "      <td>80.0</td>\n",
       "      <td>0.0625</td>\n",
       "    </tr>\n",
       "    <tr>\n",
       "      <th>4</th>\n",
       "      <td>4.0</td>\n",
       "      <td>0.867065</td>\n",
       "      <td>0.101755</td>\n",
       "      <td>0.207274</td>\n",
       "      <td>0.045998</td>\n",
       "      <td>50.0</td>\n",
       "      <td>-3.490596</td>\n",
       "      <td>0.575</td>\n",
       "      <td>100.0</td>\n",
       "      <td>0.0625</td>\n",
       "    </tr>\n",
       "  </tbody>\n",
       "</table>\n",
       "</div>"
      ],
      "text/plain": [
       "   epoch  stats_g/mean  stats_g/std  stats_o/mean  stats_o/std  test/episode  \\\n",
       "0    0.0      0.869147     0.100325      0.207639     0.036525          10.0   \n",
       "1    1.0      0.868726     0.100513      0.207578     0.040503          20.0   \n",
       "2    2.0      0.868417     0.100715      0.207524     0.042398          30.0   \n",
       "3    3.0      0.867721     0.101214      0.207324     0.044231          40.0   \n",
       "4    4.0      0.867065     0.101755      0.207274     0.045998          50.0   \n",
       "\n",
       "   test/mean_Q  test/success_rate  train/episode  train/success_rate  \n",
       "0    -1.487953              0.225           20.0              0.0500  \n",
       "1    -2.015076              0.425           40.0              0.0625  \n",
       "2    -3.197483              0.150           60.0              0.0625  \n",
       "3    -3.586861              0.300           80.0              0.0625  \n",
       "4    -3.490596              0.575          100.0              0.0625  "
      ]
     },
     "execution_count": 2,
     "metadata": {},
     "output_type": "execute_result"
    }
   ],
   "source": [
    "data1 = pd.read_csv('progress1k-512v1.csv')\n",
    "data2 = pd.read_csv('progress1k-512v2.csv')\n",
    "data3 = pd.read_csv('progress1k-512v3.csv')\n",
    "data4 = pd.read_csv('progress1k-512v4.csv')\n",
    "\n",
    "data5 = (data1 + data2 + data3 + data4)/4\n",
    "\n",
    "data5.to_csv('progress1k-512.csv')\n",
    "data5.head()"
   ]
  },
  {
   "cell_type": "code",
   "execution_count": 3,
   "metadata": {},
   "outputs": [
    {
     "data": {
      "text/plain": [
       "epoch                   99.500000\n",
       "stats_g/mean             0.854666\n",
       "stats_g/std              0.124053\n",
       "stats_o/mean             0.205399\n",
       "stats_o/std              0.110377\n",
       "test/episode          1005.000000\n",
       "test/mean_Q             -4.224498\n",
       "test/success_rate        0.776000\n",
       "train/episode         2010.000000\n",
       "train/success_rate       0.445500\n",
       "dtype: float64"
      ]
     },
     "execution_count": 3,
     "metadata": {},
     "output_type": "execute_result"
    }
   ],
   "source": [
    "data1.mean()"
   ]
  },
  {
   "cell_type": "code",
   "execution_count": 4,
   "metadata": {},
   "outputs": [
    {
     "data": {
      "text/plain": [
       "epoch                   99.500000\n",
       "stats_g/mean             0.856770\n",
       "stats_g/std              0.120382\n",
       "stats_o/mean             0.204907\n",
       "stats_o/std              0.105564\n",
       "test/episode          1005.000000\n",
       "test/mean_Q             -4.297899\n",
       "test/success_rate        0.779000\n",
       "train/episode         2010.000000\n",
       "train/success_rate       0.440750\n",
       "dtype: float64"
      ]
     },
     "execution_count": 4,
     "metadata": {},
     "output_type": "execute_result"
    }
   ],
   "source": [
    "data2.mean()"
   ]
  },
  {
   "cell_type": "code",
   "execution_count": 5,
   "metadata": {},
   "outputs": [
    {
     "data": {
      "text/plain": [
       "epoch                   99.500000\n",
       "stats_g/mean             0.856186\n",
       "stats_g/std              0.122188\n",
       "stats_o/mean             0.205825\n",
       "stats_o/std              0.103200\n",
       "test/episode          1005.000000\n",
       "test/mean_Q             -4.284894\n",
       "test/success_rate        0.788500\n",
       "train/episode         2010.000000\n",
       "train/success_rate       0.428750\n",
       "dtype: float64"
      ]
     },
     "execution_count": 5,
     "metadata": {},
     "output_type": "execute_result"
    }
   ],
   "source": [
    "data3.mean()"
   ]
  },
  {
   "cell_type": "code",
   "execution_count": 6,
   "metadata": {},
   "outputs": [
    {
     "data": {
      "text/plain": [
       "epoch                   99.500000\n",
       "stats_g/mean             0.856022\n",
       "stats_g/std              0.119275\n",
       "stats_o/mean             0.207048\n",
       "stats_o/std              0.103054\n",
       "test/episode          1005.000000\n",
       "test/mean_Q             -3.308409\n",
       "test/success_rate        0.833000\n",
       "train/episode         2010.000000\n",
       "train/success_rate       0.484500\n",
       "dtype: float64"
      ]
     },
     "execution_count": 6,
     "metadata": {},
     "output_type": "execute_result"
    }
   ],
   "source": [
    "data4.mean()"
   ]
  },
  {
   "cell_type": "code",
   "execution_count": 7,
   "metadata": {},
   "outputs": [
    {
     "data": {
      "text/plain": [
       "epoch                   99.500000\n",
       "stats_g/mean             0.855911\n",
       "stats_g/std              0.121474\n",
       "stats_o/mean             0.205795\n",
       "stats_o/std              0.105549\n",
       "test/episode          1005.000000\n",
       "test/mean_Q             -4.028925\n",
       "test/success_rate        0.794125\n",
       "train/episode         2010.000000\n",
       "train/success_rate       0.449875\n",
       "dtype: float64"
      ]
     },
     "execution_count": 7,
     "metadata": {},
     "output_type": "execute_result"
    }
   ],
   "source": [
    "data5.mean()"
   ]
  },
  {
   "cell_type": "code",
   "execution_count": null,
   "metadata": {},
   "outputs": [],
   "source": []
  }
 ],
 "metadata": {
  "kernelspec": {
   "display_name": "Python 3",
   "language": "python",
   "name": "python3"
  },
  "language_info": {
   "codemirror_mode": {
    "name": "ipython",
    "version": 3
   },
   "file_extension": ".py",
   "mimetype": "text/x-python",
   "name": "python",
   "nbconvert_exporter": "python",
   "pygments_lexer": "ipython3",
   "version": "3.7.5"
  }
 },
 "nbformat": 4,
 "nbformat_minor": 2
}
