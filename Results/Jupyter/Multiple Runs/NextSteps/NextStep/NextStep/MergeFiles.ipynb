{
 "cells": [
  {
   "cell_type": "code",
   "execution_count": 1,
   "metadata": {},
   "outputs": [],
   "source": [
    "import pandas     as pd\n",
    "import numpy      as np\n",
    "#import matplotlib.pyplot as plt\n",
    "from matplotlib import pyplot, pylab"
   ]
  },
  {
   "cell_type": "code",
   "execution_count": 2,
   "metadata": {},
   "outputs": [
    {
     "data": {
      "text/html": [
       "<div>\n",
       "<style scoped>\n",
       "    .dataframe tbody tr th:only-of-type {\n",
       "        vertical-align: middle;\n",
       "    }\n",
       "\n",
       "    .dataframe tbody tr th {\n",
       "        vertical-align: top;\n",
       "    }\n",
       "\n",
       "    .dataframe thead th {\n",
       "        text-align: right;\n",
       "    }\n",
       "</style>\n",
       "<table border=\"1\" class=\"dataframe\">\n",
       "  <thead>\n",
       "    <tr style=\"text-align: right;\">\n",
       "      <th></th>\n",
       "      <th>epoch</th>\n",
       "      <th>stats_g/mean</th>\n",
       "      <th>stats_g/std</th>\n",
       "      <th>stats_o/mean</th>\n",
       "      <th>stats_o/std</th>\n",
       "      <th>test/episode</th>\n",
       "      <th>test/mean_Q</th>\n",
       "      <th>test/success_rate</th>\n",
       "      <th>train/episode</th>\n",
       "      <th>train/success_rate</th>\n",
       "    </tr>\n",
       "  </thead>\n",
       "  <tbody>\n",
       "    <tr>\n",
       "      <th>0</th>\n",
       "      <td>0.0</td>\n",
       "      <td>0.868056</td>\n",
       "      <td>0.099402</td>\n",
       "      <td>0.207400</td>\n",
       "      <td>0.032360</td>\n",
       "      <td>10.0</td>\n",
       "      <td>-1.702940</td>\n",
       "      <td>0.100000</td>\n",
       "      <td>20.0</td>\n",
       "      <td>0.033333</td>\n",
       "    </tr>\n",
       "    <tr>\n",
       "      <th>1</th>\n",
       "      <td>1.0</td>\n",
       "      <td>0.868025</td>\n",
       "      <td>0.099408</td>\n",
       "      <td>0.207388</td>\n",
       "      <td>0.033120</td>\n",
       "      <td>20.0</td>\n",
       "      <td>-2.352248</td>\n",
       "      <td>0.266667</td>\n",
       "      <td>40.0</td>\n",
       "      <td>0.000000</td>\n",
       "    </tr>\n",
       "    <tr>\n",
       "      <th>2</th>\n",
       "      <td>2.0</td>\n",
       "      <td>0.867980</td>\n",
       "      <td>0.099487</td>\n",
       "      <td>0.207387</td>\n",
       "      <td>0.034251</td>\n",
       "      <td>30.0</td>\n",
       "      <td>-2.895609</td>\n",
       "      <td>0.266667</td>\n",
       "      <td>60.0</td>\n",
       "      <td>0.033333</td>\n",
       "    </tr>\n",
       "    <tr>\n",
       "      <th>3</th>\n",
       "      <td>3.0</td>\n",
       "      <td>0.867925</td>\n",
       "      <td>0.099504</td>\n",
       "      <td>0.207380</td>\n",
       "      <td>0.034983</td>\n",
       "      <td>40.0</td>\n",
       "      <td>-3.076689</td>\n",
       "      <td>0.500000</td>\n",
       "      <td>80.0</td>\n",
       "      <td>0.150000</td>\n",
       "    </tr>\n",
       "    <tr>\n",
       "      <th>4</th>\n",
       "      <td>4.0</td>\n",
       "      <td>0.867878</td>\n",
       "      <td>0.099557</td>\n",
       "      <td>0.207388</td>\n",
       "      <td>0.035795</td>\n",
       "      <td>50.0</td>\n",
       "      <td>-3.589419</td>\n",
       "      <td>0.500000</td>\n",
       "      <td>100.0</td>\n",
       "      <td>0.033333</td>\n",
       "    </tr>\n",
       "  </tbody>\n",
       "</table>\n",
       "</div>"
      ],
      "text/plain": [
       "   epoch  stats_g/mean  stats_g/std  stats_o/mean  stats_o/std  test/episode  \\\n",
       "0    0.0      0.868056     0.099402      0.207400     0.032360          10.0   \n",
       "1    1.0      0.868025     0.099408      0.207388     0.033120          20.0   \n",
       "2    2.0      0.867980     0.099487      0.207387     0.034251          30.0   \n",
       "3    3.0      0.867925     0.099504      0.207380     0.034983          40.0   \n",
       "4    4.0      0.867878     0.099557      0.207388     0.035795          50.0   \n",
       "\n",
       "   test/mean_Q  test/success_rate  train/episode  train/success_rate  \n",
       "0    -1.702940           0.100000           20.0            0.033333  \n",
       "1    -2.352248           0.266667           40.0            0.000000  \n",
       "2    -2.895609           0.266667           60.0            0.033333  \n",
       "3    -3.076689           0.500000           80.0            0.150000  \n",
       "4    -3.589419           0.500000          100.0            0.033333  "
      ]
     },
     "execution_count": 2,
     "metadata": {},
     "output_type": "execute_result"
    }
   ],
   "source": [
    "data1 = pd.read_csv('progress10k-896-128v1.csv')\n",
    "data2 = pd.read_csv('progress10k-896-128v2.csv')\n",
    "data3 = pd.read_csv('progress10k-896-128v3.csv')\n",
    "# data4 = pd.read_csv('progress10k-512v4.csv')\n",
    "\n",
    "data5 = (data1 + data2 + data3)/3\n",
    "\n",
    "data5.to_csv('progress10k-896-128.csv')\n",
    "data5.head()"
   ]
  },
  {
   "cell_type": "code",
   "execution_count": 3,
   "metadata": {},
   "outputs": [
    {
     "data": {
      "text/plain": [
       "epoch                  99.500000\n",
       "stats_g/mean            0.866567\n",
       "stats_g/std             0.102896\n",
       "stats_o/mean            0.207210\n",
       "stats_o/std             0.053144\n",
       "test/episode          205.000000\n",
       "test/mean_Q            -7.410400\n",
       "test/success_rate       0.475000\n",
       "train/episode         410.000000\n",
       "train/success_rate      0.160500\n",
       "dtype: float64"
      ]
     },
     "execution_count": 3,
     "metadata": {},
     "output_type": "execute_result"
    }
   ],
   "source": [
    "data1.mean()"
   ]
  },
  {
   "cell_type": "code",
   "execution_count": 4,
   "metadata": {},
   "outputs": [
    {
     "data": {
      "text/plain": [
       "epoch                  99.500000\n",
       "stats_g/mean            0.866705\n",
       "stats_g/std             0.102689\n",
       "stats_o/mean            0.207301\n",
       "stats_o/std             0.053378\n",
       "test/episode          205.000000\n",
       "test/mean_Q            -6.723635\n",
       "test/success_rate       0.508500\n",
       "train/episode         410.000000\n",
       "train/success_rate      0.178500\n",
       "dtype: float64"
      ]
     },
     "execution_count": 4,
     "metadata": {},
     "output_type": "execute_result"
    }
   ],
   "source": [
    "data2.mean()"
   ]
  },
  {
   "cell_type": "code",
   "execution_count": 5,
   "metadata": {},
   "outputs": [
    {
     "data": {
      "text/plain": [
       "epoch                  99.500000\n",
       "stats_g/mean            0.866673\n",
       "stats_g/std             0.102401\n",
       "stats_o/mean            0.207365\n",
       "stats_o/std             0.052303\n",
       "test/episode          205.000000\n",
       "test/mean_Q            -7.939337\n",
       "test/success_rate       0.438000\n",
       "train/episode         410.000000\n",
       "train/success_rate      0.154250\n",
       "dtype: float64"
      ]
     },
     "execution_count": 5,
     "metadata": {},
     "output_type": "execute_result"
    }
   ],
   "source": [
    "data3.mean()"
   ]
  },
  {
   "cell_type": "code",
   "execution_count": 6,
   "metadata": {},
   "outputs": [
    {
     "ename": "NameError",
     "evalue": "name 'data4' is not defined",
     "output_type": "error",
     "traceback": [
      "\u001b[0;31m---------------------------------------------------------------------------\u001b[0m",
      "\u001b[0;31mNameError\u001b[0m                                 Traceback (most recent call last)",
      "\u001b[0;32m<ipython-input-6-34b786b53654>\u001b[0m in \u001b[0;36m<module>\u001b[0;34m\u001b[0m\n\u001b[0;32m----> 1\u001b[0;31m \u001b[0mdata4\u001b[0m\u001b[0;34m.\u001b[0m\u001b[0mmean\u001b[0m\u001b[0;34m(\u001b[0m\u001b[0;34m)\u001b[0m\u001b[0;34m\u001b[0m\u001b[0;34m\u001b[0m\u001b[0m\n\u001b[0m",
      "\u001b[0;31mNameError\u001b[0m: name 'data4' is not defined"
     ]
    }
   ],
   "source": []
  },
  {
   "cell_type": "code",
   "execution_count": null,
   "metadata": {},
   "outputs": [],
   "source": [
    "data5.mean()"
   ]
  },
  {
   "cell_type": "code",
   "execution_count": null,
   "metadata": {},
   "outputs": [],
   "source": []
  }
 ],
 "metadata": {
  "kernelspec": {
   "display_name": "Python 3",
   "language": "python",
   "name": "python3"
  },
  "language_info": {
   "codemirror_mode": {
    "name": "ipython",
    "version": 3
   },
   "file_extension": ".py",
   "mimetype": "text/x-python",
   "name": "python",
   "nbconvert_exporter": "python",
   "pygments_lexer": "ipython3",
   "version": "3.7.5"
  }
 },
 "nbformat": 4,
 "nbformat_minor": 2
}
