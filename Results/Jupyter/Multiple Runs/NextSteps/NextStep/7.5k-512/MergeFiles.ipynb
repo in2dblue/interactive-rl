{
 "cells": [
  {
   "cell_type": "code",
   "execution_count": 1,
   "metadata": {},
   "outputs": [],
   "source": [
    "import pandas     as pd\n",
    "import numpy      as np\n",
    "#import matplotlib.pyplot as plt\n",
    "from matplotlib import pyplot, pylab"
   ]
  },
  {
   "cell_type": "code",
   "execution_count": 2,
   "metadata": {},
   "outputs": [
    {
     "data": {
      "text/html": [
       "<div>\n",
       "<style scoped>\n",
       "    .dataframe tbody tr th:only-of-type {\n",
       "        vertical-align: middle;\n",
       "    }\n",
       "\n",
       "    .dataframe tbody tr th {\n",
       "        vertical-align: top;\n",
       "    }\n",
       "\n",
       "    .dataframe thead th {\n",
       "        text-align: right;\n",
       "    }\n",
       "</style>\n",
       "<table border=\"1\" class=\"dataframe\">\n",
       "  <thead>\n",
       "    <tr style=\"text-align: right;\">\n",
       "      <th></th>\n",
       "      <th>epoch</th>\n",
       "      <th>stats_g/mean</th>\n",
       "      <th>stats_g/std</th>\n",
       "      <th>stats_o/mean</th>\n",
       "      <th>stats_o/std</th>\n",
       "      <th>test/episode</th>\n",
       "      <th>test/mean_Q</th>\n",
       "      <th>test/success_rate</th>\n",
       "      <th>train/episode</th>\n",
       "      <th>train/success_rate</th>\n",
       "    </tr>\n",
       "  </thead>\n",
       "  <tbody>\n",
       "    <tr>\n",
       "      <th>0</th>\n",
       "      <td>0.0</td>\n",
       "      <td>0.867064</td>\n",
       "      <td>0.099625</td>\n",
       "      <td>0.207355</td>\n",
       "      <td>0.033306</td>\n",
       "      <td>10.0</td>\n",
       "      <td>-1.697518</td>\n",
       "      <td>0.100</td>\n",
       "      <td>20.0</td>\n",
       "      <td>0.0375</td>\n",
       "    </tr>\n",
       "    <tr>\n",
       "      <th>1</th>\n",
       "      <td>1.0</td>\n",
       "      <td>0.866995</td>\n",
       "      <td>0.099684</td>\n",
       "      <td>0.207336</td>\n",
       "      <td>0.034487</td>\n",
       "      <td>20.0</td>\n",
       "      <td>-2.566687</td>\n",
       "      <td>0.100</td>\n",
       "      <td>40.0</td>\n",
       "      <td>0.0500</td>\n",
       "    </tr>\n",
       "    <tr>\n",
       "      <th>2</th>\n",
       "      <td>2.0</td>\n",
       "      <td>0.866918</td>\n",
       "      <td>0.099771</td>\n",
       "      <td>0.207335</td>\n",
       "      <td>0.035563</td>\n",
       "      <td>30.0</td>\n",
       "      <td>-3.351633</td>\n",
       "      <td>0.150</td>\n",
       "      <td>60.0</td>\n",
       "      <td>0.0750</td>\n",
       "    </tr>\n",
       "    <tr>\n",
       "      <th>3</th>\n",
       "      <td>3.0</td>\n",
       "      <td>0.866838</td>\n",
       "      <td>0.099847</td>\n",
       "      <td>0.207334</td>\n",
       "      <td>0.036255</td>\n",
       "      <td>40.0</td>\n",
       "      <td>-3.964690</td>\n",
       "      <td>0.225</td>\n",
       "      <td>80.0</td>\n",
       "      <td>0.0750</td>\n",
       "    </tr>\n",
       "    <tr>\n",
       "      <th>4</th>\n",
       "      <td>4.0</td>\n",
       "      <td>0.866769</td>\n",
       "      <td>0.099914</td>\n",
       "      <td>0.207320</td>\n",
       "      <td>0.036958</td>\n",
       "      <td>50.0</td>\n",
       "      <td>-4.102932</td>\n",
       "      <td>0.375</td>\n",
       "      <td>100.0</td>\n",
       "      <td>0.0250</td>\n",
       "    </tr>\n",
       "  </tbody>\n",
       "</table>\n",
       "</div>"
      ],
      "text/plain": [
       "   epoch  stats_g/mean  stats_g/std  stats_o/mean  stats_o/std  test/episode  \\\n",
       "0    0.0      0.867064     0.099625      0.207355     0.033306          10.0   \n",
       "1    1.0      0.866995     0.099684      0.207336     0.034487          20.0   \n",
       "2    2.0      0.866918     0.099771      0.207335     0.035563          30.0   \n",
       "3    3.0      0.866838     0.099847      0.207334     0.036255          40.0   \n",
       "4    4.0      0.866769     0.099914      0.207320     0.036958          50.0   \n",
       "\n",
       "   test/mean_Q  test/success_rate  train/episode  train/success_rate  \n",
       "0    -1.697518              0.100           20.0              0.0375  \n",
       "1    -2.566687              0.100           40.0              0.0500  \n",
       "2    -3.351633              0.150           60.0              0.0750  \n",
       "3    -3.964690              0.225           80.0              0.0750  \n",
       "4    -4.102932              0.375          100.0              0.0250  "
      ]
     },
     "execution_count": 2,
     "metadata": {},
     "output_type": "execute_result"
    }
   ],
   "source": [
    "data1 = pd.read_csv('progress7_5k-512v1.csv')\n",
    "data2 = pd.read_csv('progress7_5k-512v2.csv')\n",
    "data3 = pd.read_csv('progress7_5k-512v3.csv')\n",
    "data4 = pd.read_csv('progress7_5k-512v4.csv')\n",
    "\n",
    "data5 = (data1 + data2 + data3 + data4)/4\n",
    "\n",
    "data5.to_csv('progress7_5k-512.csv')\n",
    "data5.head()"
   ]
  },
  {
   "cell_type": "code",
   "execution_count": 3,
   "metadata": {},
   "outputs": [
    {
     "data": {
      "text/plain": [
       "epoch                   99.500000\n",
       "stats_g/mean             0.863929\n",
       "stats_g/std              0.109150\n",
       "stats_o/mean             0.205606\n",
       "stats_o/std              0.071847\n",
       "test/episode          1005.000000\n",
       "test/mean_Q             -3.961727\n",
       "test/success_rate        0.797500\n",
       "train/episode         2010.000000\n",
       "train/success_rate       0.448000\n",
       "dtype: float64"
      ]
     },
     "execution_count": 3,
     "metadata": {},
     "output_type": "execute_result"
    }
   ],
   "source": [
    "data1.mean()"
   ]
  },
  {
   "cell_type": "code",
   "execution_count": 4,
   "metadata": {},
   "outputs": [
    {
     "data": {
      "text/plain": [
       "epoch                   99.500000\n",
       "stats_g/mean             0.863673\n",
       "stats_g/std              0.107423\n",
       "stats_o/mean             0.206949\n",
       "stats_o/std              0.071590\n",
       "test/episode          1005.000000\n",
       "test/mean_Q             -3.569851\n",
       "test/success_rate        0.815000\n",
       "train/episode         2010.000000\n",
       "train/success_rate       0.471500\n",
       "dtype: float64"
      ]
     },
     "execution_count": 4,
     "metadata": {},
     "output_type": "execute_result"
    }
   ],
   "source": [
    "data2.mean()"
   ]
  },
  {
   "cell_type": "code",
   "execution_count": 5,
   "metadata": {},
   "outputs": [
    {
     "data": {
      "text/plain": [
       "epoch                   99.500000\n",
       "stats_g/mean             0.863617\n",
       "stats_g/std              0.107507\n",
       "stats_o/mean             0.207234\n",
       "stats_o/std              0.070529\n",
       "test/episode          1005.000000\n",
       "test/mean_Q             -4.153719\n",
       "test/success_rate        0.782000\n",
       "train/episode         2010.000000\n",
       "train/success_rate       0.454250\n",
       "dtype: float64"
      ]
     },
     "execution_count": 5,
     "metadata": {},
     "output_type": "execute_result"
    }
   ],
   "source": [
    "data3.mean()"
   ]
  },
  {
   "cell_type": "code",
   "execution_count": 6,
   "metadata": {},
   "outputs": [
    {
     "data": {
      "text/plain": [
       "epoch                   99.500000\n",
       "stats_g/mean             0.863278\n",
       "stats_g/std              0.106796\n",
       "stats_o/mean             0.207136\n",
       "stats_o/std              0.068189\n",
       "test/episode          1005.000000\n",
       "test/mean_Q             -3.732360\n",
       "test/success_rate        0.800000\n",
       "train/episode         2010.000000\n",
       "train/success_rate       0.471500\n",
       "dtype: float64"
      ]
     },
     "execution_count": 6,
     "metadata": {},
     "output_type": "execute_result"
    }
   ],
   "source": [
    "data4.mean()"
   ]
  },
  {
   "cell_type": "code",
   "execution_count": 7,
   "metadata": {},
   "outputs": [
    {
     "data": {
      "text/plain": [
       "epoch                   99.500000\n",
       "stats_g/mean             0.863624\n",
       "stats_g/std              0.107719\n",
       "stats_o/mean             0.206731\n",
       "stats_o/std              0.070539\n",
       "test/episode          1005.000000\n",
       "test/mean_Q             -3.854414\n",
       "test/success_rate        0.798625\n",
       "train/episode         2010.000000\n",
       "train/success_rate       0.461313\n",
       "dtype: float64"
      ]
     },
     "execution_count": 7,
     "metadata": {},
     "output_type": "execute_result"
    }
   ],
   "source": [
    "data5.mean()"
   ]
  },
  {
   "cell_type": "code",
   "execution_count": null,
   "metadata": {},
   "outputs": [],
   "source": []
  }
 ],
 "metadata": {
  "kernelspec": {
   "display_name": "Python 3",
   "language": "python",
   "name": "python3"
  },
  "language_info": {
   "codemirror_mode": {
    "name": "ipython",
    "version": 3
   },
   "file_extension": ".py",
   "mimetype": "text/x-python",
   "name": "python",
   "nbconvert_exporter": "python",
   "pygments_lexer": "ipython3",
   "version": "3.7.5"
  }
 },
 "nbformat": 4,
 "nbformat_minor": 2
}
