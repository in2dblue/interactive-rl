{
 "cells": [
  {
   "cell_type": "code",
   "execution_count": 2,
   "metadata": {},
   "outputs": [
    {
     "ename": "ModuleNotFoundError",
     "evalue": "No module named 'seaborn'",
     "output_type": "error",
     "traceback": [
      "\u001b[0;31m---------------------------------------------------------------------------\u001b[0m",
      "\u001b[0;31mModuleNotFoundError\u001b[0m                       Traceback (most recent call last)",
      "\u001b[0;32m<ipython-input-2-401d823307c3>\u001b[0m in \u001b[0;36m<module>\u001b[0;34m\u001b[0m\n\u001b[1;32m      1\u001b[0m \u001b[0;32mimport\u001b[0m \u001b[0mpandas\u001b[0m     \u001b[0;32mas\u001b[0m \u001b[0mpd\u001b[0m\u001b[0;34m\u001b[0m\u001b[0;34m\u001b[0m\u001b[0m\n\u001b[1;32m      2\u001b[0m \u001b[0;32mimport\u001b[0m \u001b[0mnumpy\u001b[0m      \u001b[0;32mas\u001b[0m \u001b[0mnp\u001b[0m\u001b[0;34m\u001b[0m\u001b[0;34m\u001b[0m\u001b[0m\n\u001b[0;32m----> 3\u001b[0;31m \u001b[0;32mimport\u001b[0m \u001b[0mseaborn\u001b[0m    \u001b[0;32mas\u001b[0m \u001b[0msns\u001b[0m\u001b[0;34m\u001b[0m\u001b[0;34m\u001b[0m\u001b[0m\n\u001b[0m\u001b[1;32m      4\u001b[0m \u001b[0;31m#import matplotlib.pyplot as plt\u001b[0m\u001b[0;34m\u001b[0m\u001b[0;34m\u001b[0m\u001b[0;34m\u001b[0m\u001b[0m\n\u001b[1;32m      5\u001b[0m \u001b[0;32mfrom\u001b[0m \u001b[0mmatplotlib\u001b[0m \u001b[0;32mimport\u001b[0m \u001b[0mpyplot\u001b[0m\u001b[0;34m,\u001b[0m \u001b[0mpylab\u001b[0m\u001b[0;34m\u001b[0m\u001b[0;34m\u001b[0m\u001b[0m\n",
      "\u001b[0;31mModuleNotFoundError\u001b[0m: No module named 'seaborn'"
     ]
    }
   ],
   "source": [
    "import pandas     as pd\n",
    "import numpy      as np\n",
    "import seaborn    as sns\n",
    "#import matplotlib.pyplot as plt\n",
    "from matplotlib import pyplot, pylab"
   ]
  },
  {
   "cell_type": "code",
   "execution_count": null,
   "metadata": {},
   "outputs": [],
   "source": [
    "data1 = pd.read_csv('progress500-512.csv')\n",
    "data2 = pd.read_csv('progress1k-512.csv')\n",
    "data3 = pd.read_csv('progress2_5k-512.csv')\n",
    "data4 = pd.read_csv('progress5k-512.csv')\n",
    "data5 = pd.read_csv('progress7_5k-512.csv')\n",
    "data6 = pd.read_csv('progress10k-512.csv')\n",
    "\n",
    "data4.head()"
   ]
  },
  {
   "cell_type": "code",
   "execution_count": null,
   "metadata": {},
   "outputs": [],
   "source": [
    "pyplot.figure(figsize=(15,5))\n",
    "for data in [data1, data2, data3, data4, data5, data6]:\n",
    "    pyplot.plot(data['epoch'], data['test/mean_Q'], label='sample')\n",
    "pylab.xlabel('Epoch')\n",
    "pylab.ylabel('Mean Q value')\n",
    "#pyplot.fill_between(color=color)\n",
    "#pyplot.xlim(0,6)\n",
    "pyplot.title('Training results comparison for Fetch-PickAndPlace')\n",
    "L=pyplot.legend()\n",
    "\n",
    "L.get_texts()[0].set_text('500-512')\n",
    "L.get_texts()[1].set_text('1k-512')\n",
    "L.get_texts()[2].set_text('2.5k-512')\n",
    "L.get_texts()[3].set_text('5k-512')\n",
    "L.get_texts()[4].set_text('7.5k-512')\n",
    "L.get_texts()[5].set_text('10k-512')\n",
    "\n",
    "pyplot.savefig('500-10k_512QValue.png')"
   ]
  },
  {
   "cell_type": "code",
   "execution_count": null,
   "metadata": {},
   "outputs": [],
   "source": [
    "pyplot.figure(figsize=(15,5))\n",
    "for data in [data1, data2, data3, data4, data5, data6]:\n",
    "    pyplot.plot(data['epoch'], data['test/success_rate'], label='sample')\n",
    "pylab.xlabel('Epoch')\n",
    "pylab.ylabel('Success Rate')\n",
    "#pyplot.fill_between(color=color)\n",
    "#pyplot.xlim(0,6)\n",
    "pyplot.title('Training results comparison for Fetch-PickAndPlace')\n",
    "L=pyplot.legend()\n",
    "\n",
    "L.get_texts()[0].set_text('500-512')\n",
    "L.get_texts()[1].set_text('1k-512')\n",
    "L.get_texts()[2].set_text('2.5k-512')\n",
    "L.get_texts()[3].set_text('5k-512')\n",
    "L.get_texts()[4].set_text('7.5k-512')\n",
    "L.get_texts()[5].set_text('10k-512')\n",
    "pyplot.savefig('500-10k_512SuccessRate.png')"
   ]
  },
  {
   "cell_type": "code",
   "execution_count": null,
   "metadata": {},
   "outputs": [],
   "source": [
    "data1.mean()"
   ]
  },
  {
   "cell_type": "code",
   "execution_count": null,
   "metadata": {},
   "outputs": [],
   "source": [
    "data2.mean()"
   ]
  },
  {
   "cell_type": "code",
   "execution_count": null,
   "metadata": {},
   "outputs": [],
   "source": [
    "data3.mean()"
   ]
  },
  {
   "cell_type": "code",
   "execution_count": null,
   "metadata": {},
   "outputs": [],
   "source": [
    "data4.mean()"
   ]
  },
  {
   "cell_type": "code",
   "execution_count": null,
   "metadata": {},
   "outputs": [],
   "source": [
    "data5.mean()"
   ]
  },
  {
   "cell_type": "code",
   "execution_count": null,
   "metadata": {},
   "outputs": [],
   "source": [
    "data6.mean()"
   ]
  },
  {
   "cell_type": "code",
   "execution_count": null,
   "metadata": {},
   "outputs": [],
   "source": [
    "data6.std()"
   ]
  },
  {
   "cell_type": "code",
   "execution_count": null,
   "metadata": {},
   "outputs": [],
   "source": [
    "data4.boxplot(column=['test/success_rate', 'test/mean_Q'])"
   ]
  }
 ],
 "metadata": {
  "kernelspec": {
   "display_name": "Python 3",
   "language": "python",
   "name": "python3"
  },
  "language_info": {
   "codemirror_mode": {
    "name": "ipython",
    "version": 3
   },
   "file_extension": ".py",
   "mimetype": "text/x-python",
   "name": "python",
   "nbconvert_exporter": "python",
   "pygments_lexer": "ipython3",
   "version": "3.8.2"
  }
 },
 "nbformat": 4,
 "nbformat_minor": 2
}
